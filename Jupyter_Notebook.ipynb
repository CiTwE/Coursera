{
 "cells": [
  {
   "cell_type": "markdown",
   "id": "dfc2ce9b-1a71-45fc-bdcf-e96082ef5f76",
   "metadata": {},
   "source": [
    "# My Jupyter Notebook on IBM Watson Studio"
   ]
  },
  {
   "cell_type": "markdown",
   "id": "094ea1f5-88ed-4011-b948-259043859169",
   "metadata": {},
   "source": [
    "**Thomas Cross**\n",
    "\n",
    "Analyst"
   ]
  },
  {
   "cell_type": "markdown",
   "id": "6e739415-1374-4410-bf07-c0ee9a60dd49",
   "metadata": {},
   "source": [
    "*I am interested in data science to better perform my job*"
   ]
  },
  {
   "cell_type": "markdown",
   "id": "d0ada680-32c2-4dd7-a227-235a3e6712ef",
   "metadata": {},
   "source": [
    "### Simple addition."
   ]
  },
  {
   "cell_type": "code",
   "execution_count": 1,
   "id": "a7cf9e8c-16dc-428b-bd23-689221f690d1",
   "metadata": {},
   "outputs": [
    {
     "name": "stdout",
     "output_type": "stream",
     "text": [
      "4\n"
     ]
    }
   ],
   "source": [
    "print(2+2)"
   ]
  },
  {
   "cell_type": "markdown",
   "id": "2cbfbd2f-816f-462e-a945-adf010dd9da5",
   "metadata": {},
   "source": [
    "The List\n",
    "***\n",
    "> 1. Apples\n",
    "> 2. ~~Oranges~~"
   ]
  },
  {
   "cell_type": "code",
   "execution_count": null,
   "id": "b4625b78-ef49-4439-b60b-4ca853c31ea9",
   "metadata": {},
   "outputs": [],
   "source": []
  }
 ],
 "metadata": {
  "kernelspec": {
   "display_name": "Python 3 (ipykernel)",
   "language": "python",
   "name": "python3"
  },
  "language_info": {
   "codemirror_mode": {
    "name": "ipython",
    "version": 3
   },
   "file_extension": ".py",
   "mimetype": "text/x-python",
   "name": "python",
   "nbconvert_exporter": "python",
   "pygments_lexer": "ipython3",
   "version": "3.10.8"
  }
 },
 "nbformat": 4,
 "nbformat_minor": 5
}
